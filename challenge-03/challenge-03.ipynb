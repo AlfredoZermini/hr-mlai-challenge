{
 "cells": [
  {
   "cell_type": "code",
   "execution_count": 70,
   "metadata": {},
   "outputs": [],
   "source": [
    "import requests\n",
    "import pandas as pd\n",
    "from io import StringIO"
   ]
  },
  {
   "cell_type": "code",
   "execution_count": 71,
   "metadata": {},
   "outputs": [],
   "source": [
    "# URL of the object you want to read\n",
    "url = 'https://nft.17tons.tech/explorer/lands/5'\n",
    "\n",
    "# Send an HTTP GET request to the URL\n",
    "response = requests.get(url)\n",
    "data= response.text\n",
    "df = pd.read_csv(StringIO(data))"
   ]
  },
  {
   "cell_type": "code",
   "execution_count": 72,
   "metadata": {},
   "outputs": [
    {
     "data": {
      "text/html": [
       "<div>\n",
       "<style scoped>\n",
       "    .dataframe tbody tr th:only-of-type {\n",
       "        vertical-align: middle;\n",
       "    }\n",
       "\n",
       "    .dataframe tbody tr th {\n",
       "        vertical-align: top;\n",
       "    }\n",
       "\n",
       "    .dataframe thead th {\n",
       "        text-align: right;\n",
       "    }\n",
       "</style>\n",
       "<table border=\"1\" class=\"dataframe\">\n",
       "  <thead>\n",
       "    <tr style=\"text-align: right;\">\n",
       "      <th></th>\n",
       "      <th>{\"land\":{\"_id\":\"64937273cfaf29fd6043a6ff\"</th>\n",
       "      <th>landId:\"5\"</th>\n",
       "      <th>__v:0</th>\n",
       "      <th>attributes:[{\"trait_type\":\"Land ID\"</th>\n",
       "      <th>value:\"5\"}</th>\n",
       "      <th>{\"trait_type\":\"Land Owner\"</th>\n",
       "      <th>value:\"\"}</th>\n",
       "      <th>{\"trait_type\":\"Status\"</th>\n",
       "      <th>value:\"ACTIVE\"}</th>\n",
       "      <th>{\"trait_type\":\"Biodiversity\"</th>\n",
       "      <th>...</th>\n",
       "      <th>bbox:[6.626556</th>\n",
       "      <th>35.4122073</th>\n",
       "      <th>18.6201843</th>\n",
       "      <th>47.092146]</th>\n",
       "      <th>center:[12.6463610364431</th>\n",
       "      <th>42.5041539170675]</th>\n",
       "      <th>geometry:{\"type\":\"Point\"</th>\n",
       "      <th>coordinates:[12.6463610364431</th>\n",
       "      <th>42.5041539170675]}}}</th>\n",
       "      <th>error:false}</th>\n",
       "    </tr>\n",
       "  </thead>\n",
       "  <tbody>\n",
       "  </tbody>\n",
       "</table>\n",
       "<p>0 rows × 83 columns</p>\n",
       "</div>"
      ],
      "text/plain": [
       "Empty DataFrame\n",
       "Columns: [{\"land\":{\"_id\":\"64937273cfaf29fd6043a6ff\", landId:\"5\", __v:0, attributes:[{\"trait_type\":\"Land ID\", value:\"5\"}, {\"trait_type\":\"Land Owner\", value:\"\"}, {\"trait_type\":\"Status\", value:\"ACTIVE\"}, {\"trait_type\":\"Biodiversity\", value:\"\"}.1, {\"trait_type\":\"Size\", value:\"\"}.2, {\"trait_type\":\"Granulometry\", value:\"\"}.3, {\"trait_type\":\"Irrigation method\", value:\"\"}.4, {\"trait_type\":\"Trees of land\", value:\"700\"}], description:\"\", geolocation:{\"coordinates\":[[[12.743672700367, 42.1898810942094], [12.74415745513545, 42.18980127947853], [12.744486011146165, 42.189857149800815], [12.744755319350816, 42.1897254553908], [12.745030013720623, 42.18970550166844], [12.745229301792364, 42.18975339059139], [12.744733774694879, 42.19079895637174], [12.743893533094734, 42.19065130118429], [12.742406951803389, 42.19125788245509], [12.74254161059207, 42.191708823365815], [12.742977889884656, 42.19204403444232], [12.743139474807407, 42.19190436337672], [12.743543437114965, 42.19213980870899], [12.74348957547403, 42.19219168637633], [12.742983276048648, 42.192091921594], [12.742437968109442, 42.191685202035586], [12.742177256626604, 42.191182704280976], [12.743828903812727, 42.19058744958227], [12.74380168035097, 42.19023141363601], [12.743672700367, 42.1898810942094]]], type:\"Polygon\"}, image:\"https://ipfs.io/ipfs/QmbqQHRq1RSnJdUCJUhN1Lt94ZGivKZL8H3NMowdSrpLZX\", lastUpdated:1699682449538, name:\"Fara Sabina | Enjoy\", geocoding:{\"id\":\"country.8816\", type:\"Feature\", place_type:[\"country\"], relevance:1, properties:{\"mapbox_id\":\"dXJuOm1ieHBsYzpJbkE\", wikidata:\"Q38\", short_code:\"it\"}, text:\"Italy\", place_name:\"Italy\", bbox:[6.626556, 35.4122073, 18.6201843, 47.092146], center:[12.6463610364431, 42.5041539170675], geometry:{\"type\":\"Point\", coordinates:[12.6463610364431, 42.5041539170675]}}}, error:false}]\n",
       "Index: []\n",
       "\n",
       "[0 rows x 83 columns]"
      ]
     },
     "execution_count": 72,
     "metadata": {},
     "output_type": "execute_result"
    }
   ],
   "source": [
    "df"
   ]
  }
 ],
 "metadata": {
  "kernelspec": {
   "display_name": "venv",
   "language": "python",
   "name": "python3"
  },
  "language_info": {
   "codemirror_mode": {
    "name": "ipython",
    "version": 3
   },
   "file_extension": ".py",
   "mimetype": "text/x-python",
   "name": "python",
   "nbconvert_exporter": "python",
   "pygments_lexer": "ipython3",
   "version": "3.10.11"
  }
 },
 "nbformat": 4,
 "nbformat_minor": 2
}
