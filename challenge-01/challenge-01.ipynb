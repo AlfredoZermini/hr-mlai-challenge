{
 "cells": [
  {
   "cell_type": "code",
   "execution_count": 2,
   "metadata": {},
   "outputs": [],
   "source": [
    "from ultralytics import YOLO"
   ]
  },
  {
   "cell_type": "code",
   "execution_count": 4,
   "metadata": {},
   "outputs": [
    {
     "name": "stderr",
     "output_type": "stream",
     "text": [
      "\n",
      "Found https://17tons-cdn.s3.amazonaws.com/sat_image.png locally at sat_image.png\n",
      "image 1/1 /Users/alfredo/Documents/Interviews/hr-mlai-challenge/challenge-01/sat_image.png: 576x640 (no detections), 167.8ms\n",
      "Speed: 9.2ms preprocess, 167.8ms inference, 0.6ms postprocess per image at shape (1, 3, 576, 640)\n"
     ]
    }
   ],
   "source": [
    "model = YOLO(\"yolov8n.pt\")\n",
    "img = 'https://17tons-cdn.s3.amazonaws.com/sat_image.png'\n",
    "results = model(img)  # predict on an image"
   ]
  },
  {
   "cell_type": "code",
   "execution_count": 10,
   "metadata": {},
   "outputs": [],
   "source": [
    "names = model.names\n",
    "\n",
    "for r in results:\n",
    "    for c in r.boxes.cls:\n",
    "        print(names[int(c)])"
   ]
  }
 ],
 "metadata": {
  "kernelspec": {
   "display_name": "Python 3",
   "language": "python",
   "name": "python3"
  },
  "language_info": {
   "codemirror_mode": {
    "name": "ipython",
    "version": 3
   },
   "file_extension": ".py",
   "mimetype": "text/x-python",
   "name": "python",
   "nbconvert_exporter": "python",
   "pygments_lexer": "ipython3",
   "version": "3.10.11"
  }
 },
 "nbformat": 4,
 "nbformat_minor": 2
}
